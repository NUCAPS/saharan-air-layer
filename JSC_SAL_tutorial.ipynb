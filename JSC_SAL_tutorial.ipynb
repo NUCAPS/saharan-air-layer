{
 "cells": [
  {
   "cell_type": "markdown",
   "metadata": {},
   "source": [
    "# MONITORING THE SAHARAN AIR LAYER USING SATELLITES\n",
    "\n",
    "Presenter: Rebekah Esmaili, Science and Technology Corportation, [rebekah@stcnet.com](rebekah@stcnet.com)\n",
    "\n",
    "Significant Hazards Satellite Applications Short Course \n",
    "\n",
    "29 September 2019, Boston, MA \n",
    "\n",
    "![SAL on 9/20/2019](images/SAL.jpeg)\n",
    "\n",
    "## What is the Saharan Air Layer?\n",
    "\n",
    "The Saharan Air Layer (SAL) is a warm and dry pocket of air that originates over the Saharan Desert and propagates over the Atlantic. The SAL is typically located between 850-500mb and has very steep lapse rates, thus capping the moist, tropical marine air below. This can potentially suppress tropical cyclone formation. The SAL is a potential hazard because it can transport aerosols to populated regions across the Atlantic, reducing air quality over the Caribbean and eastern United States. This can increase allergies and asthma in sensitive populations. \n",
    "\n",
    "The image above shows a SAL outflow on September 15, 2018 using the VIIRS instrument from the Suomi NPP satellite. This outbreak reached the Caribbean on September 20, 2018. The SAL can be detected from space by examining visible and infrared imagery from a variety of sensors on satellite platform, such as the ABI (GOES-16), SEVIRI (Meteosat-9/-10), VIIRS (Suomi NPP, NOAA-20), and AVHRR (MetOp-A, -B, -C). The horizontal extent of the SAL can be monitored using dust RGB imagery, channel differencing (e.g., 10.33 µm - 12.30 µm), and Aerosol Optical Depth (AOD) retrievals. Additionally, microwave and infrared sounding (CrIS, ATMS, AMSU, and IASI) are particularly useful for SAL monitoring because sounder products can detect both the horizontal and vertical distribution of the dry air mass.\n",
    "\n",
    "## What is NUCAPS?\n",
    "The NOAA Unique Combined Atmospheric Processing System (NUCAPS) operationally produces atmospheric sounding products from the Suomi National-Polar-orbiting Partnership (Suomi NPP), NOAA-20, and MetOp series polar orbiting satellites. From each satellite, NUCAPS provides global, twice-daily scans and is available in near real-time. NUCAPS provides vertical profiles of temperature, humidity, and trace gases such as ozone, methane, and carbon monoxide.\n",
    "\n",
    "NUCAPS humidity profiles is useful for studying the vertical profile of the SAL and to verify model predictions for SAL propagation.\n",
    "\n",
    "\n",
    "## Where can I get NUCAPS datasets?\n",
    "For researchers, Suomi NPP and NOAA-20 NUCAPS data can be ordered from [NOAA CLASS](https://www.bou.class.noaa.gov/saa/products/search?sub_id=0&datatype_family=JPSS_SND&submit.x=24&submit.y=7), under the JPSS Sound Products (JPSS_SND) drop down menu.  For operational forecasters, NOAA-20 NUCAPS is available within 20 minutes in AWIPS.\n",
    "\n",
    "## How can I visualize NUCAPS datasets?\n",
    "The daily ascending and descending overpasses can be viewed online via the [NOAA/STAR](https://www.star.nesdis.noaa.gov/jpss/EDRs/products_Soundings_N20.php). Additionally, skew-T visualizations are routinely produced by [NOAA/OSPO](https://www.ospo.noaa.gov/Products/atmosphere/soundings/nucaps/pskewt/USACON.html) for NOAA-20, Suomi NPP, and MetOp series.\n",
    "\n",
    "Below is a short tutorial on how to display NUCAPS using Python and Jupyter Notebooks. This tutorial is intended to be a beginner-friendly exercise. So, even if\n",
    "you are not a Python programmer, you may be able to port it to another\n",
    "language of choice.\n",
    "\n",
    "### Objectives\n",
    "* Open and inspect a single NUCAPS file, containing one swath of data\n",
    "* Create maps and vertical cross section plots\n",
    "* Combine many single files onto a map\n",
    "\n",
    "First, we will import several 'helper' libraries to process the data. the '\\#' symbole indicates comments and will not run with the code."
   ]
  },
  {
   "cell_type": "code",
   "execution_count": null,
   "metadata": {},
   "outputs": [],
   "source": [
    "import numpy as np                         # To perform array operations\n",
    "import cartopy.crs as ccrs                 # To create map projections for plots\n",
    "import cartopy.feature as cfeature         # To add maps to plots\n",
    "from glob import glob                      # Search all files in a directory\n",
    "import matplotlib.pyplot as plt            # Main plotting library\n",
    "import xarray as xr                        # For working with netCDF files and large arrays\n",
    "\n",
    "plt.rcParams['figure.figsize'] = [15, 10] # Sets all figures in document to be 15\"x10\"\n",
    "plt.rcParams.update({'font.size': 21})     # Sets fontsize in document to 21pts"
   ]
  },
  {
   "cell_type": "markdown",
   "metadata": {},
   "source": [
    "### The JPSS file naming scheme\n",
    "\n",
    "The code below will read in a single netCDF file. The file names are very long!\n",
    "\n",
    "__NUCAPS-EDR_v2r0_npp_s201809201634390_e201809201635090_c201809201739220.nc__\n",
    "\n",
    "But there's a general trend in the filenames, so using the underscore (\\_) as a seperator:\n",
    "\n",
    "* NUCAPS-EDR: product\n",
    "* v2r0: algorithm\n",
    "* npp: satellite\n",
    "* s201809201634390: start time\n",
    "* e201809201635090: end time\n",
    "* c201809201739220: creation time\n",
    "\n",
    "By looking at the start and end times of the name, we see that the file contains 1 minute of NUCAPS data collected from the Suomi NPP sensors. \n",
    "\n",
    "### Importing a single granule of data using xarray\n",
    "\n",
    "Using the open_dataset command in xarray, let's import the file. Note that we need the decode_times option to be false, because xarray expects them to be stored in miliseconds and the NUCAPS files stores them in nanoseconds."
   ]
  },
  {
   "cell_type": "code",
   "execution_count": null,
   "metadata": {},
   "outputs": [],
   "source": [
    "# Read in a single NUCAPS netcdf file \n",
    "# Set decode time = false (the time doesnt follow standard formatting)\n",
    "fname = 'sal/NUCAPS-EDR_v2r0_npp_s201809201638230_e201809201638530_c201809201742190.nc'\n",
    "nucaps = xr.open_dataset(fname, decode_times=False)"
   ]
  },
  {
   "cell_type": "code",
   "execution_count": null,
   "metadata": {
    "scrolled": true
   },
   "outputs": [],
   "source": [
    "# Uncomment to inspect the file contents...\n",
    "nucaps"
   ]
  },
  {
   "cell_type": "markdown",
   "metadata": {},
   "source": [
    "### Creating a simple map\n",
    "\n",
    "If successfully imported, the command above will display the dimensions, coordinates, and available variables to plot. First, we will make a map showing where this granule is by plotting the latitude and logitude coordinates. NUCAPS data is saved as a 120 field of regards (FORs). This is stored as the \"CrIS_FORs\" coordinate in the NUCAPS netCDF file. Each FOR is 50km near nadir and 150km at the scan edge. "
   ]
  },
  {
   "cell_type": "code",
   "execution_count": null,
   "metadata": {},
   "outputs": [],
   "source": [
    "# Initiate the plot\n",
    "fig = plt.figure(figsize=(15, 10))\n",
    "\n",
    "# Adds a map to the plot\n",
    "ax=plt.axes(projection=ccrs.PlateCarree())\n",
    "ax.coastlines('50m')\n",
    "\n",
    "# Plots the latitude and longitude of the NUCAPS data\n",
    "plt.scatter(nucaps['Longitude'], nucaps['Latitude'], c=nucaps['CrIS_FORs'])\n",
    "\n",
    "plt.colorbar(orientation='horizontal')\n",
    "\n",
    "# Expands axes\n",
    "ax.set_ylim(-5, 25)\n",
    "ax.set_xlim(-90, 0)\n",
    "\n",
    "# Display plot\n",
    "plt.show()"
   ]
  },
  {
   "cell_type": "markdown",
   "metadata": {},
   "source": [
    "From above, the 120 FORs are numbered linearly, starting at one in the lower left of the swath, increase to the right, resetting to a new row with every 30th observation.\n",
    "\n",
    "### Plotting a vertical profile of water vapor to examine the SAL structure\n",
    "\n",
    "From the list of data variables, we have access to vertical profiles of temperature, H$_{2}$O, O$_{3}$, CO, etc. Since the SAL is dry, we will see a dry layer when looking at the vertical profiles for each FOR.\n",
    "\n",
    "To make this plot, we have to make sure all the variables are the same dimensions. By printing below, we'll see that the CRIS_FORs are one-dimensional while pressure and H$_{2}$O are two-dimensional:"
   ]
  },
  {
   "cell_type": "code",
   "execution_count": null,
   "metadata": {},
   "outputs": [],
   "source": [
    "print(nucaps['Pressure'].shape, nucaps['H2O'].shape, nucaps['CrIS_FORs'].shape)"
   ]
  },
  {
   "cell_type": "markdown",
   "metadata": {},
   "source": [
    "We can use the repeat and command to repeat the 100 pressure levels 120 times, once for each FOR. Then we will reshape this 1D array into a 2D array to match the other two variables:"
   ]
  },
  {
   "cell_type": "code",
   "execution_count": null,
   "metadata": {},
   "outputs": [],
   "source": [
    "repeatFORs = np.repeat(nucaps['CrIS_FORs'].values, 100).reshape(120,100)\n",
    "repeatFORs"
   ]
  },
  {
   "cell_type": "markdown",
   "metadata": {},
   "source": [
    "Now, we can make a contour plot, which requires three inputs: the x-axis variable (FOR), the y-axis variable (pressure), and the z variable or color coding (H2O). In the plot below, we do not include a map since it's a profile but we do invert the y axis, because pressure decreases with height and by default, matplotlib will make the plot in ascending order."
   ]
  },
  {
   "cell_type": "code",
   "execution_count": null,
   "metadata": {},
   "outputs": [],
   "source": [
    "# Initiate the plot\n",
    "fig = plt.figure(figsize=(15, 10))\n",
    "\n",
    "# Plots the latitude and longitude of the NUCAPS data\n",
    "plt.pcolormesh(repeatFORs, nucaps['Pressure'], nucaps['H2O'].values)\n",
    "\n",
    "plt.colorbar(orientation='horizontal')\n",
    "\n",
    "# Reverse the y axes\n",
    "plt.gca().invert_yaxis()\n",
    "\n",
    "# Display plot\n",
    "plt.show()"
   ]
  },
  {
   "cell_type": "markdown",
   "metadata": {},
   "source": [
    "You may observe the repeating pattern above. That's because the row resets after every 30th FOR. However, we can  see that the air is quite dry above 850mb. Since the SAL is typically dry between 850-500mb, our swath may be capturing the SAL.  In the next section, we will gain greater situational awareness examining a horizontal swath of data.\n",
    "\n",
    "### Creating a horizontal cross section map of moisture to find pockets of dry air\n",
    "\n",
    "Let's make a map of the horizontal cross section of water vapor near 500mb. NUCAPS is gridded to an irregular set of pressure levels, so we need to find the closest one to 500mb. Below, we make a dictionary of all the pressure levels contains in the file. The first line prints all the pressure levels as integers (dtype='i4') from the first FOR (since they're repeating, we only need one), converts it to a numpy array using np.array(...). Then, the loop appends all the pressure levels and their index."
   ]
  },
  {
   "cell_type": "code",
   "execution_count": null,
   "metadata": {},
   "outputs": [],
   "source": [
    "# Make a dictionary with pressure levels and indices ...\n",
    "pressureLevs = np.array(nucaps.sel(Number_of_CrIS_FORs=0).Pressure.values, dtype='i4')\n",
    "\n",
    "PresLevIndex = {}\n",
    "for i, plev in enumerate(pressureLevs):\n",
    "    PresLevIndex.update( {plev : i} )"
   ]
  },
  {
   "cell_type": "markdown",
   "metadata": {},
   "source": [
    "Below prints out all available pressure levels that we can choose from; we can see that the closest to 500mb is 496mb."
   ]
  },
  {
   "cell_type": "code",
   "execution_count": null,
   "metadata": {},
   "outputs": [],
   "source": [
    "# Print out all pressure levels in the dictionary\n",
    "PresLevIndex.keys()"
   ]
  },
  {
   "cell_type": "markdown",
   "metadata": {},
   "source": [
    "The procedure above is handy because we can use the index to select the pressure levels we want to take a slice from, which we'll map to a new variable griddedView."
   ]
  },
  {
   "cell_type": "code",
   "execution_count": null,
   "metadata": {},
   "outputs": [],
   "source": [
    "griddedView = nucaps.sel(Number_of_P_Levels=PresLevIndex[496])\n",
    "#griddedView"
   ]
  },
  {
   "cell_type": "markdown",
   "metadata": {},
   "source": [
    "Below, we make a map showing the horizontal cross section of water vapor."
   ]
  },
  {
   "cell_type": "code",
   "execution_count": null,
   "metadata": {},
   "outputs": [],
   "source": [
    "# Initiate the plot\n",
    "fig = plt.figure(figsize=(15, 10))\n",
    "\n",
    "# Adds a map to the plot\n",
    "ax=plt.axes(projection=ccrs.PlateCarree())\n",
    "ax.coastlines('50m')\n",
    "\n",
    "# Plots the latitude and longitude of the NUCAPS data\n",
    "plt.scatter(griddedView['Longitude'], griddedView['Latitude'], c=griddedView['H2O'])\n",
    "\n",
    "plt.colorbar(orientation='horizontal')\n",
    "\n",
    "# Expands axes\n",
    "ax.set_ylim(-5, 25)\n",
    "ax.set_xlim(-90, 0)\n",
    "\n",
    "# Display plot\n",
    "plt.show()"
   ]
  },
  {
   "cell_type": "markdown",
   "metadata": {},
   "source": [
    "### Importing multiple granules of data using xarray\n",
    "\n",
    "The above map is interesting, but it only represents a small area. By importing more granules of data, we can examine a larger area. Using glob, we can search for all files in a directory. Instead of open_dataset, we can use xarrays open_mfdataset (multi file dataset) all at the same time."
   ]
  },
  {
   "cell_type": "code",
   "execution_count": null,
   "metadata": {},
   "outputs": [],
   "source": [
    "# Import all files (may take a momenbt...)\n",
    "allfiles = glob(\"sal/NUCAPS-EDR_v2r0_npp_s*.nc\")\n",
    "nucapsAll = xr.open_mfdataset(allfiles, decode_times=False)"
   ]
  },
  {
   "cell_type": "markdown",
   "metadata": {},
   "source": [
    "### Filtering data by quality\n",
    "\n",
    "We can repeat the steps we did for the single granule to make a map of water vapor at 496mb. However, let's do one last thing, which is filter by data quality. NUCAPS uses both microwave and infrared based retrievals for the best quality retrievals. However, these retrievals can fail within uniform cloud decks. We can use the where command to keep the good data (Quality_Flag == 0) and drop the rest data (Quality_Flag==1)."
   ]
  },
  {
   "cell_type": "code",
   "execution_count": null,
   "metadata": {},
   "outputs": [],
   "source": [
    "griddedViewAll = nucapsAll.sel(Number_of_P_Levels=PresLevIndex[496])\n",
    "\n",
    "# To filter by quality flag:\n",
    "griddedViewAll = griddedViewAll.where(griddedViewAll['Quality_Flag'] == 0, drop=True)"
   ]
  },
  {
   "cell_type": "markdown",
   "metadata": {},
   "source": [
    "### Plotting multiple, quality filtered water vapor cross sections to see the extent of the SAL\n",
    "\n",
    "The code below is identical to our single granule example, however, but now we have more granules to look at in our plot:"
   ]
  },
  {
   "cell_type": "code",
   "execution_count": null,
   "metadata": {},
   "outputs": [],
   "source": [
    "# Initiate the plot\n",
    "fig = plt.figure(figsize=(15, 10))\n",
    "\n",
    "# Adds a map to the plot\n",
    "ax=plt.axes(projection=ccrs.PlateCarree())\n",
    "ax.coastlines('50m')\n",
    "\n",
    "# Plots the latitude and longitude of the NUCAPS data\n",
    "plt.scatter(griddedViewAll['Longitude'], griddedViewAll['Latitude'], \\\n",
    "            c=griddedViewAll['H2O'])\n",
    "\n",
    "plt.colorbar(orientation='horizontal')\n",
    "\n",
    "# Expands axes\n",
    "ax.set_ylim(-5, 25)\n",
    "ax.set_xlim(-90, 0)\n",
    "\n",
    "# Display plot\n",
    "plt.show()"
   ]
  },
  {
   "cell_type": "markdown",
   "metadata": {},
   "source": [
    "Looking above, we can see a very dry layer of air. The GOES-16 Split Window Difference (10.33 µm – 12.30 µm) , we can confirm the presense of the SAL:\n",
    "\n",
    "![](images/20180920.15.NWAtlantic.SALgoes16split.png)\n",
    "\n",
    "\n",
    "## Summary\n",
    "\n",
    "* The Saharan Air Layer (SAL) can be seen from space using visible and infrared imagery and products. Hyperspectral sounding data can be used to see both the vertical and horizontal extent in near real-time.\n",
    "* NUCAPS is useful for examining the moisture and temperature structure of SAL events.\n",
    "* Both code and web-based tools are useful for visualizating the SAL. For researchers, Suomi NPP and NOAA-20 NUCAPS are available via [NOAA CLASS](https://www.class.noaa.gov/) with a three-hour latency. For operational forecasters, NOAA-20 NUCAPS is available within 20 mintes in AWIPS."
   ]
  }
 ],
 "metadata": {
  "kernelspec": {
   "display_name": "Python 3",
   "language": "python",
   "name": "python3"
  },
  "language_info": {
   "codemirror_mode": {
    "name": "ipython",
    "version": 3
   },
   "file_extension": ".py",
   "mimetype": "text/x-python",
   "name": "python",
   "nbconvert_exporter": "python",
   "pygments_lexer": "ipython3",
   "version": "3.7.3"
  }
 },
 "nbformat": 4,
 "nbformat_minor": 2
}
